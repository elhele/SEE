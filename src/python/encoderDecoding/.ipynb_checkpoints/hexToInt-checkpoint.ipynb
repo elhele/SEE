{
 "cells": [
  {
   "cell_type": "code",
   "execution_count": 42,
   "metadata": {
    "collapsed": false
   },
   "outputs": [
    {
     "ename": "TypeError",
     "evalue": "expected a string or other character buffer object",
     "output_type": "error",
     "traceback": [
      "\u001b[1;31m---------------------------------------------------------------------------\u001b[0m",
      "\u001b[1;31mTypeError\u001b[0m                                 Traceback (most recent call last)",
      "\u001b[1;32m<ipython-input-42-bc697295bd83>\u001b[0m in \u001b[0;36m<module>\u001b[1;34m()\u001b[0m\n\u001b[0;32m     30\u001b[0m \u001b[1;33m\u001b[0m\u001b[0m\n\u001b[0;32m     31\u001b[0m \u001b[1;32mfor\u001b[0m \u001b[0mi\u001b[0m \u001b[1;32min\u001b[0m \u001b[0mrange\u001b[0m\u001b[1;33m(\u001b[0m\u001b[0mlen\u001b[0m\u001b[1;33m(\u001b[0m\u001b[0manglesB\u001b[0m\u001b[1;33m)\u001b[0m\u001b[1;33m)\u001b[0m\u001b[1;33m:\u001b[0m\u001b[1;33m\u001b[0m\u001b[0m\n\u001b[1;32m---> 32\u001b[1;33m     \u001b[0moutputB\u001b[0m\u001b[1;33m.\u001b[0m\u001b[0mwrite\u001b[0m\u001b[1;33m(\u001b[0m\u001b[0manglesB\u001b[0m\u001b[1;33m[\u001b[0m\u001b[0mi\u001b[0m\u001b[1;33m]\u001b[0m\u001b[1;33m)\u001b[0m\u001b[1;33m\u001b[0m\u001b[0m\n\u001b[0m\u001b[0;32m     33\u001b[0m     \u001b[0moutputC\u001b[0m\u001b[1;33m.\u001b[0m\u001b[0mwrite\u001b[0m\u001b[1;33m(\u001b[0m\u001b[0manglesC\u001b[0m\u001b[1;33m[\u001b[0m\u001b[0mi\u001b[0m\u001b[1;33m]\u001b[0m\u001b[1;33m)\u001b[0m\u001b[1;33m\u001b[0m\u001b[0m\n\u001b[0;32m     34\u001b[0m     \u001b[0moutputDiff\u001b[0m\u001b[1;33m.\u001b[0m\u001b[0mwrite\u001b[0m\u001b[1;33m(\u001b[0m\u001b[0mdiff\u001b[0m\u001b[1;33m[\u001b[0m\u001b[0mi\u001b[0m\u001b[1;33m]\u001b[0m\u001b[1;33m)\u001b[0m\u001b[1;33m\u001b[0m\u001b[0m\n",
      "\u001b[1;31mTypeError\u001b[0m: expected a string or other character buffer object"
     ]
    }
   ],
   "source": [
    "import binascii\n",
    "import numpy as np\n",
    "filename = 'tacho1.dat'\n",
    "with open(filename, 'rb') as f:\n",
    "    content = f.read()\n",
    "angles = []\n",
    "anglesB = []\n",
    "anglesC = []\n",
    "#print (binascii.hexlify(content)).split(\"0000\")[7:]\n",
    "for elem in (binascii.hexlify(content)).split(\"0000\")[7:]:\n",
    "    elemToInt = int(elem, 16)\n",
    "    angles.append(elemToInt)\n",
    "#print angles\n",
    "i = 0\n",
    "while (i < len(angles)):\n",
    "    anglesB.append(angles[i])\n",
    "    anglesC.append(angles[i+1])\n",
    "    i+=2\n",
    "#print anglesB\n",
    "#print \"*******\"\n",
    "#print anglesC\n",
    "diff = []\n",
    "for i in range(len(anglesB)):\n",
    "    if (abs(anglesB[i] - anglesC[i]) < 2000):\n",
    "        diff.append(anglesB[i] - anglesC[i])\n",
    "#print diff\n",
    "outputB = open('outputB.dat', 'w')\n",
    "outputC = open('outputC.dat', 'w')\n",
    "outputDiff = open('outputDiff.dat', 'w')\n",
    "\n",
    "for i in range(len(anglesB)):\n",
    "    outputB.write(anglesB[i])\n",
    "    outputC.write(anglesC[i])\n",
    "    outputDiff.write(diff[i])"
   ]
  }
 ],
 "metadata": {
  "kernelspec": {
   "display_name": "Python 2",
   "language": "python",
   "name": "python2"
  },
  "language_info": {
   "codemirror_mode": {
    "name": "ipython",
    "version": 2
   },
   "file_extension": ".py",
   "mimetype": "text/x-python",
   "name": "python",
   "nbconvert_exporter": "python",
   "pygments_lexer": "ipython2",
   "version": "2.7.11"
  }
 },
 "nbformat": 4,
 "nbformat_minor": 0
}
